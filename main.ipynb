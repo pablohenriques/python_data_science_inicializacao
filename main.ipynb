{
 "cells": [
  {
   "cell_type": "markdown",
   "metadata": {},
   "source": [
    "# Data Science com Python"
   ]
  },
  {
   "cell_type": "markdown",
   "metadata": {},
   "source": [
    "---"
   ]
  },
  {
   "cell_type": "markdown",
   "metadata": {},
   "source": [
    "## Lógica de Programação"
   ]
  },
  {
   "cell_type": "code",
   "execution_count": 5,
   "metadata": {},
   "outputs": [
    {
     "name": "stdout",
     "output_type": "stream",
     "text": [
      "Minha idade: 20 - Tipo da minha variável: <class 'int'>\n",
      "Meu nome: Sousa - Tipo da minha variável: <class 'str'>\n"
     ]
    }
   ],
   "source": [
    "\"\"\" Declarando variáveis \"\"\"\n",
    "\n",
    "idade = 20\n",
    "print(f\"Minha idade: {20} - Tipo da minha variável: {type(idade)}\")\n",
    "nome = \"Sousa\"\n",
    "print(f\"Meu nome: {nome} - Tipo da minha variável: {type(nome)}\")"
   ]
  },
  {
   "cell_type": "code",
   "execution_count": 12,
   "metadata": {},
   "outputs": [
    {
     "name": "stdout",
     "output_type": "stream",
     "text": [
      "Número aleatório: 5801519\n",
      "Soma: 3\n",
      "Minha idade: 20 -> Maior de idade\n"
     ]
    }
   ],
   "source": [
    "\"\"\" Declarando Funções / Condicionais / Conversões \"\"\"\n",
    "from random import randint\n",
    "\n",
    "def retornar_numero_aleatorio():\n",
    "    numero_aleatorio = randint(1, 10000000)\n",
    "    return numero_aleatorio\n",
    "\n",
    "def somar(numero1, numero2):\n",
    "    return numero1 + numero2\n",
    "\n",
    "\n",
    "def verificar_maior_idade(idade):\n",
    "    verificacao = None\n",
    "    if idade >= 18:\n",
    "        verificacao = \"Maior de idade\"\n",
    "    else:\n",
    "        verificacao = \"Menor de idade\"\n",
    "    return verificacao\n",
    "\n",
    "\n",
    "print(f\"Número aleatório: {retornar_numero_aleatorio()}\")\n",
    "print(f\"Soma: {somar(1, 2)}\")\n",
    "print(f\"Minha idade: 20 -> {verificar_maior_idade(int('20'))}\")"
   ]
  },
  {
   "cell_type": "code",
   "execution_count": 20,
   "metadata": {},
   "outputs": [
    {
     "name": "stdout",
     "output_type": "stream",
     "text": [
      "Número mágico existe na lista: False\n"
     ]
    }
   ],
   "source": [
    "\"\"\" Lista / Bool / Laços & Loops\"\"\"\n",
    "def verificar_numero_magico_em_lista(lista: list) -> bool:\n",
    "    numero_magico = 350\n",
    "    if numero_magico in lista:\n",
    "        return True\n",
    "    return False\n",
    "\n",
    "lista_de_numeros = [item for item in range(10)]\n",
    "\n",
    "print(f\"Número mágico existe na lista: {verificar_numero_magico_em_lista(lista_de_numeros)}\")"
   ]
  },
  {
   "cell_type": "markdown",
   "metadata": {},
   "source": [
    "## Gerando Gráficos"
   ]
  },
  {
   "cell_type": "code",
   "execution_count": 28,
   "metadata": {},
   "outputs": [
    {
     "name": "stdout",
     "output_type": "stream",
     "text": [
      "Lista de notas matemáticas: \n",
      "[2, 1, 9, 1, 8, 9, 10, 2, 2, 2]\n"
     ]
    }
   ],
   "source": [
    "from random import randint\n",
    "\n",
    "notas_matematica = []\n",
    "\n",
    "for nota in range(10):\n",
    "    minha_nota = randint(1, 10)\n",
    "    notas_matematica.append(minha_nota)\n",
    "\n",
    "print(f\"Lista de notas matemáticas: \\n{notas_matematica}\")"
   ]
  },
  {
   "cell_type": "code",
   "execution_count": 29,
   "metadata": {},
   "outputs": [
    {
     "name": "stdout",
     "output_type": "stream",
     "text": [
      "Eixo X: [0, 1, 2, 3, 4, 5, 6, 7, 8, 9]\n",
      "Eixo Y: [2, 1, 9, 1, 8, 9, 10, 2, 2, 2]\n"
     ]
    },
    {
     "data": {
      "image/png": "[encoded data removed]",
      "text/plain": [
       "<Figure size 432x288 with 1 Axes>"
      ]
     },
     "metadata": {},
     "output_type": "display_data"
    }
   ],
   "source": [
    "import matplotlib.pyplot as plt\n",
    "\n",
    "x = list(range(10))\n",
    "y = notas_matematica\n",
    "\n",
    "print(f\"Eixo X: {x}\")\n",
    "print(f\"Eixo Y: {y}\")\n",
    "\n",
    "plt.plot(x, y, marker=\"o\")\n",
    "plt.title(\"Notas de Matemática\")\n",
    "plt.xlabel(\"Provas\")\n",
    "plt.ylabel(\"Notas\")\n",
    "plt.show()"
   ]
  },
  {
   "cell_type": "code",
   "execution_count": null,
   "metadata": {},
   "outputs": [],
   "source": []
  }
 ],
 "metadata": {
  "interpreter": {
   "hash": "582a7ca23861eb589bde69121e5e0f63cfb857404a37dda177b2456222c7146e"
  },
  "kernelspec": {
   "display_name": "Python 3.8.10 ('venv': venv)",
   "language": "python",
   "name": "python3"
  },
  "language_info": {
   "codemirror_mode": {
    "name": "ipython",
    "version": 3
   },
   "file_extension": ".py",
   "mimetype": "text/x-python",
   "name": "python",
   "nbconvert_exporter": "python",
   "pygments_lexer": "ipython3",
   "version": "3.8.10"
  },
  "orig_nbformat": 4
 },
 "nbformat": 4,
 "nbformat_minor": 2
}
